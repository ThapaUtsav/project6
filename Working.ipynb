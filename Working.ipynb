import warnings
import pandas as pd
import random
import ipywidgets as widgets
from IPython.display import display
from sklearn.feature_extraction.text import CountVectorizer

warnings.simplefilter(action='ignore', category=FutureWarning)

# Load dataset
url = "https://raw.githubusercontent.com/ThapaUtsav/project6/main/Software%20Questions.csv"
data = pd.read_csv(url, encoding='ISO-8859-1')
data.columns = data.columns.str.strip()
question_column = 'Question'
answer_column = 'Answer'
category_column = 'Category'
difficulty_column = 'Difficulty'

if question_column not in data.columns or answer_column not in data.columns or category_column not in data.columns or difficulty_column not in data.columns:
    raise ValueError(f"Missing columns: {question_column}, {answer_column}, {category_column}, {difficulty_column}")

# Widgets(dropdowns)
category_dropdown = widgets.Dropdown(options=[], description='Category:')
difficulty_dropdown = widgets.Dropdown(options=[], description='Difficulty:')
status_label = widgets.Label(value='')  # New label for status/progress messages
question_label = widgets.Label(value='Select a category and difficulty to get a random question.')
user_answer_box = widgets.Textarea(placeholder='Type your answer here...', description='Your Answer:', layout=widgets.Layout(width='80%', height='100px'))
button = widgets.Button(description="Submit Answer", button_style='success')
output = widgets.Output()

# Globals(Mula change na haan)
selected_question = None
answered_questions = set()

def filter_questions(category, difficulty):
    filtered = data[(data[category_column] == category) & (data[difficulty_column] == difficulty)]
    return filtered[~filtered[question_column].isin(answered_questions)]

def extract_keywords(text, top_n=5):
    vectorizer = CountVectorizer(stop_words='english', max_features=top_n)
    X = vectorizer.fit_transform([text])
    return vectorizer.get_feature_names_out()
#modal start
def give_feedback(user_answer, reference_answer):
    feedback = []

    ref_keywords = set(extract_keywords(reference_answer, top_n=5))
    user_keywords = set(extract_keywords(user_answer, top_n=5))
    common_keywords = ref_keywords & user_keywords

    if common_keywords:
        feedback.append(f"👍 You mentioned some important terms: {', '.join(common_keywords)}")
    else:
        feedback.append("⚠️ Your answer misses key terms from the reference answer.")

    if len(user_answer.split()) < 10:
        feedback.append("⚠️ Your answer might be too short. Try to elaborate more.")

    return "\n".join(feedback)
#(https://www.webfx.com/tools/emoji-cheat-sheet/  EMOJI)
def get_next_difficulty(current_difficulty):
    difficulties = list(difficulty_dropdown.options)
    current_index = difficulties.index(current_difficulty)
    if current_index < len(difficulties) - 1:
        return difficulties[current_index + 1]
    else:
        return None

def update_random_question(triggered_by_user=True):
    global selected_question

    category = category_dropdown.value
    difficulty = difficulty_dropdown.value
    available_questions = filter_questions(category, difficulty)

    status_label.value = ''  

    if not available_questions.empty:
        selected_row = available_questions.sample(n=1).iloc[0]
        selected_question = selected_row[question_column]
        question_label.value = f"❓ Question: {selected_question}"
    else:
        total = len(data[(data[category_column] == category) & (data[difficulty_column] == difficulty)])
        answered = sum(
            1 for q in answered_questions
            if q in data[(data[category_column] == category) & (data[difficulty_column] == difficulty)][question_column].values
        )

        if total > 0 and answered / total >= 0.5:
            next_difficulty = get_next_difficulty(difficulty)
            if next_difficulty:
                difficulty_dropdown.value = next_difficulty
                status_label.value = f"🎉 Great progress! Moving to: {next_difficulty} level..."
                question_label.value = ''
                update_random_question(triggered_by_user=False)
            else:
                status_label.value = "🏁 All questions completed or no more difficulty levels!"
                question_label.value = ''
                selected_question = None
        else:
            status_label.value = "✅ You've answered all available questions in this difficulty."
            question_label.value = ''
            selected_question = None

def on_button_click(b):
    with output:
        output.clear_output()
        user_answer = user_answer_box.value.strip()

        if not selected_question or not user_answer:
            print("⚠️ Please select a valid question and enter your answer.")
            return

        category = category_dropdown.value
        difficulty = difficulty_dropdown.value

        reference_answer = data[(
            data[category_column] == category) &
            (data[difficulty_column] == difficulty) &
            (data[question_column] == selected_question)
        ][answer_column].values[0]

        print(f"🧠 Reference Answer:\n{reference_answer}\n")
        print(f"📝 Your Answer:\n{user_answer}\n")

        
        feedback = give_feedback(user_answer, reference_answer)
        print(f"💬 Feedback:\n{feedback}")

        # MAIN FEEDBACK TOOL DONT CHANGE IT
        answered_questions.add(selected_question)
        user_answer_box.value = ''
        update_random_question()

def update_dropdowns(*args):
    if category_dropdown.value and difficulty_dropdown.value:
        update_random_question()

# Setup dropdowns
category_dropdown.options = sorted(data[category_column].dropna().unique().tolist())
difficulty_dropdown.options = sorted(data[difficulty_column].dropna().unique().tolist())

# Bind UI events
category_dropdown.observe(update_dropdowns, names='value')
difficulty_dropdown.observe(update_dropdowns, names='value')
button.on_click(on_button_click)

# Layout and display
dropdown_box = widgets.HBox([category_dropdown, difficulty_dropdown, status_label])  # Status message next to difficulty
display(dropdown_box, question_label, user_answer_box, button, output)
